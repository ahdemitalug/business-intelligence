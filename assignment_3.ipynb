{
  "nbformat": 4,
  "nbformat_minor": 0,
  "metadata": {
    "kernelspec": {
      "display_name": "Python 3",
      "language": "python",
      "name": "python3"
    },
    "language_info": {
      "codemirror_mode": {
        "name": "ipython",
        "version": 3
      },
      "file_extension": ".py",
      "mimetype": "text/x-python",
      "name": "python",
      "nbconvert_exporter": "python",
      "pygments_lexer": "ipython3",
      "version": "3.7.4"
    },
    "colab": {
      "name": "assignment 3.ipynb",
      "provenance": []
    }
  },
  "cells": [
    {
      "cell_type": "code",
      "metadata": {
        "id": "CXp8Jz25G3Pj",
        "colab_type": "code",
        "colab": {
          "base_uri": "https://localhost:8080/",
          "height": 221
        },
        "outputId": "41702672-54d4-4cab-bba3-b2898ee7f49a"
      },
      "source": [
        "#1. Implement KNN algorithm without using sci-kit learn library in Python.\n",
        "\n",
        "import pandas as pd\n",
        "import numpy as np\n",
        "import operator\n",
        "\n",
        "#the noise will have a higher influence on the result, and a large number of neighbors make it computationally expensive.\n",
        "\n",
        "# loading data file into the program. give the location of your csv file\n",
        "dataset = pd.read_csv(\"iris.data\")\n",
        "print(dataset.head()) # prints first five tuples of your data.\n",
        "\n",
        "# making function for calculating euclidean distance\n",
        "def E_Distance(x1, x2, length):\n",
        "    distance = 0\n",
        "    for x in range(length):\n",
        "        distance += np.square(x1[x] - x2[x])\n",
        "    return np.sqrt(distance)\n",
        "\n",
        "# making function for defining K-NN model\n",
        "\n",
        "def knn(trainingSet, testInstance, k):\n",
        "    distances = {}\n",
        "    length = testInstance.shape[1]  #The shape attribute for numpy arrays returns the dimensions of the array. \n",
        "   \n",
        "    \n",
        "    for x in range(len(trainingSet)):\n",
        "        dist = E_Distance(testInstance, trainingSet.iloc[x], length)\n",
        "        #print(dist)\n",
        "        distances[x] = dist[0]\n",
        "        \n",
        "     #Sort the data in data file from smallest to largest (in ascending order) by the distances.    \n",
        "    sortdist = sorted(distances.items(), key=operator.itemgetter(1))\n",
        "    neighbors = []\n",
        "    for x in range(k):\n",
        "        neighbors.append(sortdist[x][0])\n",
        "    Count = {}  # to get most frequent class of rows\n",
        "    for x in range(len(neighbors)):\n",
        "        response = trainingSet.iloc[neighbors[x]][-1]\n",
        "        if response in Count:\n",
        "            Count[response] += 1\n",
        "        else:\n",
        "            Count[response] = 1\n",
        "    sortcount = sorted(Count.items(), key=operator.itemgetter(1), reverse=True)\n",
        "    return (sortcount[0][0], neighbors)\n",
        "\n",
        "# making test data set\n",
        "testSet = [[6.8, 3.4, 4.8, 2.4]]\n",
        "test = pd.DataFrame(testSet)\n",
        "\n",
        "\n",
        "\n",
        "# assigning different values to k\n",
        "k = 1\n",
        "k1 = 5\n",
        "k2 = 11\n",
        "\n",
        "# supplying test data to the model\n",
        "\n",
        "result, neigh = knn(dataset, test, k)\n",
        "result1, neigh1 = knn(dataset, test, k1)\n",
        "result2, neigh2 = knn(dataset, test, k2)\n",
        "\n",
        "# printing output prediction\n",
        "\n",
        "print(result)\n",
        "print(neigh)\n",
        "print(result1)\n",
        "print(neigh1)\n",
        "print(result2)\n",
        "print(neigh2)"
      ],
      "execution_count": 7,
      "outputs": [
        {
          "output_type": "stream",
          "text": [
            "   5.1  3.5  1.4  0.2  Iris-setosa\n",
            "0  4.9  3.0  1.4  0.2  Iris-setosa\n",
            "1  4.7  3.2  1.3  0.2  Iris-setosa\n",
            "2  4.6  3.1  1.5  0.2  Iris-setosa\n",
            "3  5.0  3.6  1.4  0.2  Iris-setosa\n",
            "4  5.4  3.9  1.7  0.4  Iris-setosa\n",
            "Iris-virginica\n",
            "[140]\n",
            "Iris-virginica\n",
            "[140, 144, 109, 114, 138]\n",
            "Iris-virginica\n",
            "[140, 144, 109, 114, 138, 146, 76, 147, 139, 111, 143]\n"
          ],
          "name": "stdout"
        }
      ]
    },
    {
      "cell_type": "code",
      "metadata": {
        "id": "6CZxS3-YG3Ps",
        "colab_type": "code",
        "colab": {
          "base_uri": "https://localhost:8080/",
          "height": 299
        },
        "outputId": "9a6ad8bd-85d3-44a5-a054-9a71c46959ac"
      },
      "source": [
        "#2. Split the Iris dataset into 60% train and 40% test.\n",
        "#Evaluate (find accuracy) KNN algorithm on different values of K. \n",
        "#Use sci-kit learn library to execute KNN algorithm.\n",
        "#Take K = 1, 3, 5, 7, 9. Using matplotlib library, draw accuracy (X-axis) vs K (Y-axis) plot.\n",
        "#What is knee point ?\n",
        "\n",
        "import matplotlib.pyplot as plt\n",
        "import pandas as pd\n",
        "#read in the data using pandas\n",
        "df = pd.read_csv('iris.data')\n",
        "\n",
        "#create a dataframe with all training data except the target column\n",
        "X = df.drop(columns=['Iris-setosa'])\n",
        "\n",
        "#separate target values\n",
        "y = df['Iris-setosa'].values\n",
        "\n",
        "from sklearn.model_selection import train_test_split\n",
        "#split dataset into train and test data\n",
        "X_train, X_test, y_train, y_test = train_test_split(X, y, test_size=0.4, random_state=1, stratify=y)\n",
        "from sklearn.neighbors import KNeighborsClassifier\n",
        "k=1\n",
        "klist=[]\n",
        "accuracy=[]\n",
        "while k<=9:\n",
        "    klist.append(k)\n",
        "    # Create KNN classifier\n",
        "    knn = KNeighborsClassifier(n_neighbors = k)\n",
        "    # Fit the classifier to the data\n",
        "    knn.fit(X_train,y_train)\n",
        "    #show first 5 model predictions on the test data\n",
        "    knn.predict(X_test)\n",
        "    #check accuracy of our model on the test data\n",
        "    accuracy.append(knn.score(X_test, y_test))\n",
        "    k=k+2\n",
        "    \n",
        "print(accuracy)\n",
        "plt.plot(klist,accuracy)"
      ],
      "execution_count": 5,
      "outputs": [
        {
          "output_type": "stream",
          "text": [
            "[0.9833333333333333, 0.9833333333333333, 0.9666666666666667, 0.9666666666666667, 0.9833333333333333]\n"
          ],
          "name": "stdout"
        },
        {
          "output_type": "execute_result",
          "data": {
            "text/plain": [
              "[<matplotlib.lines.Line2D at 0x7ff38dc2eb00>]"
            ]
          },
          "metadata": {
            "tags": []
          },
          "execution_count": 5
        },
        {
          "output_type": "display_data",
          "data": {
            "image/png": "[encoded data removed]",
            "text/plain": [
              "<Figure size 432x288 with 1 Axes>"
            ]
          },
          "metadata": {
            "tags": []
          }
        }
      ]
    },
    {
      "cell_type": "code",
      "metadata": {
        "id": "5lBSlJFUG3Pw",
        "colab_type": "code",
        "colab": {}
      },
      "source": [
        ""
      ],
      "execution_count": 0,
      "outputs": []
    }
  ]
}