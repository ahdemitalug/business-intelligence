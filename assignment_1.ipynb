{
  "nbformat": 4,
  "nbformat_minor": 0,
  "metadata": {
    "kernelspec": {
      "display_name": "Python 3",
      "language": "python",
      "name": "python3"
    },
    "language_info": {
      "codemirror_mode": {
        "name": "ipython",
        "version": 3
      },
      "file_extension": ".py",
      "mimetype": "text/x-python",
      "name": "python",
      "nbconvert_exporter": "python",
      "pygments_lexer": "ipython3",
      "version": "3.7.4"
    },
    "colab": {
      "name": "assignment 1.ipynb",
      "provenance": []
    }
  },
  "cells": [
    {
      "cell_type": "code",
      "metadata": {
        "id": "wldNlybLS-4B",
        "colab_type": "code",
        "outputId": "2bf3650c-fdc3-481a-c6e6-d74ad00da649",
        "colab": {}
      },
      "source": [
        "##########QUESTION##########\n",
        "\n",
        "\n",
        "#Write a python program (menu driven) that asks for an operation to be performed on two input numbers.\n",
        "#Operations are add, subtract, divide, multiply.\n",
        "#The program should keep asking for options on new numbers until user specifies explicitly to exit.\n",
        "#Also handle the scenario of divide by zero through exception handling in python. \n",
        "\n",
        "\n",
        "##########SOLUTION##########\n",
        "\n",
        "\n",
        "# This function adds two numbers \n",
        "def add(x, y):\n",
        "   return x + y\n",
        "\n",
        "# This function subtracts two numbers \n",
        "def subtract(x, y):\n",
        "   return x - y\n",
        "\n",
        "# This function multiplies two numbers\n",
        "def multiply(x, y):\n",
        "   return x * y\n",
        "\n",
        "# This function divides two numbers\n",
        "def divide(x, y):\n",
        "   return x / y\n",
        "\n",
        "print(\"Select operation.\")\n",
        "print(\"1.Add\")\n",
        "print(\"2.Subtract\")\n",
        "print(\"3.Multiply\")\n",
        "print(\"4.Divide\")\n",
        "\n",
        "# loop to continue or explicitly exit the program\n",
        "option = 1\n",
        "while option == 1:\n",
        "# Take input from the user \n",
        "    choice = input(\"Enter choice(1/2/3/4): \")\n",
        "\n",
        "    num1 = float(input(\"Enter first number: \")) # number 1\n",
        "    num2 = float(input(\"Enter second number: \")) # number 2\n",
        "\n",
        "    if choice == '1':\n",
        "       print(num1,\"+\",num2,\"=\", add(num1,num2)) # call function add\n",
        "\n",
        "    elif choice == '2':\n",
        "       print(num1,\"-\",num2,\"=\", subtract(num1,num2)) # call function subtract\n",
        "\n",
        "    elif choice == '3':\n",
        "       print(num1,\"*\",num2,\"=\", multiply(num1,num2)) # call function mutiply\n",
        "\n",
        "    elif choice == '4':\n",
        "        # Exception Handling while dividing by 0\n",
        "    \n",
        "            # try block\n",
        "       try:        \n",
        "            print(num1,\"/\",num2,\"=\", divide(num1,num2)) # call function divide\n",
        "        \n",
        "            # except block\n",
        "       except:\n",
        "            print(\"Division by 0 error occured.\")    # exception caught\n",
        "    \n",
        "    else:\n",
        "       print(\"Invalid input\") # end if else\n",
        "\n",
        "    print(\"Press n to stop and y to continue!!\") \n",
        "    opt = input(\"Enter your option(y/n): \") # ask the user to continue or exit\n",
        "    if opt != 'y':\n",
        "        option = 0\n",
        "# end loop\n"
      ],
      "execution_count": 0,
      "outputs": [
        {
          "output_type": "stream",
          "text": [
            "Enter choice(1/2/3/4): 2\n",
            "Enter first number: 4\n",
            "Enter second number: 3\n",
            "4.0 - 3.0 = 1.0\n",
            "Press n to stop and y to continue!!\n",
            "Enter your option(y/n): j\n"
          ],
          "name": "stdout"
        }
      ]
    },
    {
      "cell_type": "code",
      "metadata": {
        "id": "mUJPFNbXS-4K",
        "colab_type": "code",
        "outputId": "3a87e10e-8409-4177-a774-9dbb8e6f67dc",
        "colab": {}
      },
      "source": [
        "##########QUESTION##########\n",
        "\n",
        "\n",
        "#Write a python program that takes a sentence as input from user and reverses the words in the sentence. \n",
        "#Eg. If the sentence is 'Welcome to AI lab', then the output should be 'lab AI to Welcome'.\n",
        "#(Use list data structure)\n",
        "\n",
        "\n",
        "##########SOLUTION##########\n",
        "\n",
        "\n",
        "import string\n",
        "# Function to reverse the words \n",
        "# of the given sentence \n",
        "def reverse(input): \n",
        "    # split words of string separated by space \n",
        "    inputWords = input.split(\" \") \n",
        "  \n",
        "    # reverse list of words \n",
        "    inputWords=inputWords[-1::-1] \n",
        "  \n",
        "    # now join words with space \n",
        "    output = ' '.join(inputWords) \n",
        "      \n",
        "    print(output)\n",
        "\n",
        "# input from user\n",
        "sentence = input(\"Enter a sentence: \") \n",
        "reverse(sentence)\n",
        "    \n",
        "    \n"
      ],
      "execution_count": 0,
      "outputs": [
        {
          "output_type": "stream",
          "text": [
            "Enter a sentence: hello ABS djfhf\n",
            "djfhf ABS hello\n"
          ],
          "name": "stdout"
        }
      ]
    },
    {
      "cell_type": "code",
      "metadata": {
        "id": "5_E-_2l5S-4O",
        "colab_type": "code",
        "outputId": "72d4101c-416a-4cec-8027-5487ba7186de",
        "colab": {
          "resources": {
            "http://localhost:8080/nbextensions/google.colab/files.js": {
              "data": "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",
              "ok": true,
              "headers": [
                [
                  "content-type",
                  "application/javascript"
                ]
              ],
              "status": 200,
              "status_text": ""
            }
          },
          "base_uri": "https://localhost:8080/",
          "height": 241
        }
      },
      "source": [
        "##########QUESTION##########\n",
        "\n",
        "\n",
        "#Write a python program that reads text from an input file and\n",
        "#counts the number of times each alphabet is appearing in it,\n",
        "#and displays the frequency of the occurrence of each alphabet.\n",
        "#(Use dictionary data-structure to solve it)\n",
        "\n",
        "\n",
        "##########SOLUTION##########\n",
        "\n",
        "from google.colab import files\n",
        "uploaded = files.upload()\n",
        "\n",
        "import string \n",
        "\n",
        "# Open the file in read mode \n",
        "text = open(\"sample.txt\", \"r\") \n",
        "\n",
        "# Create an empty dictionary \n",
        "d = dict() \n",
        "\n",
        "# Loop through each line of the file \n",
        "for line in text: \n",
        "    # Remove the leading spaces and newline character \n",
        "    line = line.strip() \n",
        "\n",
        "    # Split the line into words \n",
        "    words = line.split(\" \") \n",
        "\n",
        "    # Iterate over each word in line \n",
        "    for word in words:\n",
        "        for letter in word:\n",
        "            # Check if the letter is already in dictionary \n",
        "            if letter in d: \n",
        "                # Increment count of letter by 1 \n",
        "                d[letter] = d[letter] + 1\n",
        "            else: \n",
        "                # Add the letter to dictionary with count 1 \n",
        "                d[letter] = 1\n",
        "\n",
        "# Print the contents of dictionary \n",
        "for key in list(d.keys()): \n",
        "    print(key, \":\", d[key]) \n",
        "\n"
      ],
      "execution_count": 10,
      "outputs": [
        {
          "output_type": "display_data",
          "data": {
            "text/html": [
              "\n",
              "     <input type=\"file\" id=\"files-2d2c239c-2847-489c-9a11-c3cdcacd3426\" name=\"files[]\" multiple disabled />\n",
              "     <output id=\"result-2d2c239c-2847-489c-9a11-c3cdcacd3426\">\n",
              "      Upload widget is only available when the cell has been executed in the\n",
              "      current browser session. Please rerun this cell to enable.\n",
              "      </output>\n",
              "      <script src=\"/nbextensions/google.colab/files.js\"></script> "
            ],
            "text/plain": [
              "<IPython.core.display.HTML object>"
            ]
          },
          "metadata": {
            "tags": []
          }
        },
        {
          "output_type": "stream",
          "text": [
            "Saving sample.txt to sample (2).txt\n",
            "M : 1\n",
            "e : 1\n",
            "d : 1\n",
            "h : 1\n",
            "a : 2\n",
            "G : 1\n",
            "u : 1\n",
            "l : 1\n",
            "t : 1\n",
            "i : 1\n"
          ],
          "name": "stdout"
        }
      ]
    },
    {
      "cell_type": "code",
      "metadata": {
        "id": "JK6Nd2pkS-4S",
        "colab_type": "code",
        "outputId": "a03e07d8-a814-48e7-9b72-f5076b91fb76",
        "colab": {
          "base_uri": "https://localhost:8080/",
          "height": 85
        }
      },
      "source": [
        "##########QUESTION##########\n",
        "\n",
        "\n",
        "#Write a python program to find square root of a given number (n) within a given precision (p).\n",
        "#Do not use any predefined library. \n",
        "#(Take a guess, compute error at each successive step, until error is less than given precision)\n",
        "\n",
        "\n",
        "##########SOLUTION##########\n",
        "\n",
        "# function to find the square root\n",
        "def squareRoot(number, prec):\n",
        " \n",
        "    start = 0\n",
        "    end = number\n",
        "   \n",
        "    while (start <= end) :\n",
        "        mid = int((start + end) / 2)\n",
        "         \n",
        "        if (mid * mid == number) :\n",
        "            ans = mid\n",
        "            break\n",
        "         \n",
        "        if (mid * mid < number) :\n",
        "            start = mid + 1\n",
        "            ans = mid\n",
        "         \n",
        "        else :\n",
        "            end = mid - 1\n",
        "         \n",
        "    increment = 0.1\n",
        "    for i in range(0, prec):  \n",
        "        while (ans * ans <= number):\n",
        "            ans += increment\n",
        "         \n",
        "        ans = ans - increment\n",
        "        increment = increment / 10\n",
        "     \n",
        "    return ans\n",
        " \n",
        "# Driver code  \n",
        "number = int(input(\"Enter the number: \")) # input number from user\n",
        "prec = int(input(\"Enter the precision: \")) # input precision from user\n",
        "\n",
        "# printing the output\n",
        "print(\"Square Root : \")\n",
        "print(round(squareRoot(number, prec), 4)) # calling function squareRoot"
      ],
      "execution_count": 11,
      "outputs": [
        {
          "output_type": "stream",
          "text": [
            "Enter the number: 14\n",
            "Enter the precision: 6\n",
            "Square Root : \n",
            "3.7417\n"
          ],
          "name": "stdout"
        }
      ]
    },
    {
      "cell_type": "code",
      "metadata": {
        "id": "WVjpF29BS-4a",
        "colab_type": "code",
        "outputId": "982590a5-ceb2-4f08-c0e7-493437f57286",
        "colab": {}
      },
      "source": [
        "##########QUESTION##########\n",
        "\n",
        "\n",
        "#Create a suitable class in python to represent the mathematical concept of 'set'.\n",
        "#Create appropriate member variables and member functions of this class to perform operations:\n",
        "#Union, Intersection, Cardinality.\n",
        "\n",
        "\n",
        "##########SOLUTION##########\n",
        "\n",
        "\n",
        "# class set to show the set operations\n",
        "class set:\n",
        "    # initializing the sets when the object of the class is created\n",
        "    def initialize(self, setA, setB):\n",
        "        self.setA = setA\n",
        "        self.setB = setB\n",
        "    \n",
        "    # definition of union function\n",
        "    def unionFunc(self):\n",
        "        return self.setA.union(self.setB)\n",
        "\n",
        "    # definition of intersection function\n",
        "    def intersectionFunc(self):\n",
        "        return self.setA.intersection(self.setB)\n",
        "    \n",
        "    # definition of cardinality function\n",
        "    def cardinalityFunc(self, setName):\n",
        "        return len(setName)\n",
        "\n",
        "#creating the object of the class\n",
        "setObj = set()\n",
        "setA = {1,2,3,4}                                    #set 1\n",
        "setB = {4,5,6}                                      #set 2\n",
        "setObj.initialize(setA, setB)                       #calling initialising func\n",
        "setUnion = setObj.unionFunc()                       #calling unionFunc\n",
        "setIntersection = setObj.intersectionFunc()         #calling intersectionFunc\n",
        "setCardinality = setObj.cardinalityFunc(setA)       #calling cardinalityFunc for set 1\n",
        "\n",
        "#printing the outputs\n",
        "print(\"Union of setA and setB is: \")\n",
        "print(setUnion)\n",
        "print(\"Intersection of setA and setB is: \")\n",
        "print(setIntersection)\n",
        "print(\"Cardinality of setA is: \")\n",
        "print(setCardinality)\n"
      ],
      "execution_count": 0,
      "outputs": [
        {
          "output_type": "stream",
          "text": [
            "Union of setA and setB is: \n",
            "{1, 2, 3, 4, 5, 6}\n",
            "Intersection of setA and setB is: \n",
            "{4}\n",
            "Cardinality of setA is: \n",
            "4\n"
          ],
          "name": "stdout"
        }
      ]
    },
    {
      "cell_type": "code",
      "metadata": {
        "id": "3kv1Jw9VS-4e",
        "colab_type": "code",
        "colab": {}
      },
      "source": [
        ""
      ],
      "execution_count": 0,
      "outputs": []
    }
  ]
}